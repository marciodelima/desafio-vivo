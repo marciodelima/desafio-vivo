{
 "cells": [
  {
   "cell_type": "markdown",
   "metadata": {
    "colab_type": "text",
    "id": "NaRLXZNkVwQV"
   },
   "source": [
    "# Vivo - AIOps Machine Learning Engineering Challenge\n",
    "Olá candidatxs. Agradecemos o interesse pela vaga de [Engenharia de Machine Learning na área de AIOps da Telefónica Brasil S.A (Vivo)](https://vivo.gupy.io/jobs/180473). \n",
    "\n",
    "Esse notebook compreende a Data Challenge voltada à vaga de Engenharia de Machine Learning desenvolvido pela equipe de AIOps. O objetivo deste desafio é entender um pouco melhor como vocês pensam em relação à atuação de um(a) Engenheiro(a) de Machine Learning em projetos de Inteligência Artificial corporativos e como raciocinam frente a problemas parecidos com o que vivenciamos no dia-a-dia da área. Com isso, este desafio não é uma competição e não existem respostas erradas. O que vale é a resolução de problemas baseada em dados e como vocês comunicam suas respostas.\n",
    "\n",
    "Por favor, leiam com atenção as propostas de cada uma das perguntas e se atentem para a as **Sugestões** e **Requerimentos** deste desafio. \n",
    "\n",
    "Vocês terão **três dias** para resolver os problemas aqui propostos, até o **23:59 do terceiro dia** após o envio do e-mail com o desafio. Se houver qualquer problema com o teste que atrapalhe o prazo de entrega, por favor comunique o responsável pelo teste, Mateus Gomes, no e-mail mateus.pgomes@telefonica.com.\n",
    "\n",
    "## O que é AIOps na Vivo?\n",
    "A área de AIOps da Vivo tem como objetivo melhorar a qualidade do serviço da Operação de TI (ITOps), agregando o que chamamos de Inteligência Operacional à companhia. Com isso, desenvolvemos soluções de dados para entregar insights de alto valor para a Operação, seja para tomar uma decisão, um direcionamento durante troubleshooting ou para entender tendências no ambiente e sistemas de TI.\n",
    "\n",
    "A Operação de TI e os sistemas que a mesma governa geram dados de alta variabilidade, variedade e volume. Alguns dos tipos de dados envolvidos são:\n",
    "\n",
    "- Logs de Aplicações; \n",
    "- Traps SNMP;\n",
    "- Telemetria/Alertas de ferramentas de monitoração diversas;\n",
    "- Incidentes registrados no ITSM;\n",
    "- Métricas do negócio e diversos KPIs;\n",
    "\n",
    "Apesar de gerarmos tantos dados e de tantas fontes diferentes, tendo em vista a alta complexidade do ambiente, a Operação tem dificuldade de interpretar e extrair insights relevantes destes dados rápido o suficiente. \n",
    "\n",
    "## Contexto dos clientes internos e usuários\n",
    "A equipe de AIOps entra nesse cenário como fornecedora de insights e produtos para melhorar a qualidade das decisões, monitorações e sistemas da Vivo, a fim de tornar a Operação inteligente e proativa.\n",
    "\n",
    "Neste escopo de atuação, temos três clientes importantes:\n",
    "- CIM: o command center da operação, que faz a gestão dos incidentes e monitorações alto-nível do ambiente. O perfil destes profissionais é de N1 de atendimento, menos técnico que os níveis N2/N3;\n",
    "- PCPs/Sustentação: profissionais de cunho MAIS técnico-operacional que fazem a gestão dos sistemas da companhia. Eles respondem os chamados de incidentes, fazem a gestão do ambiente produtivo dos seus respectivos sistemas, além de corrigirem problemas de performance e abrirem reports de bugs para os Desenvolvedores. São equivalentes ao atendimento N2/N3 da companhia;\n",
    "- Executivos: tomadores de decisão da empresa, que precisam de dados para saber o que fazer;\n",
    "\n",
    "## Requerimentos para responder este desafio\n",
    "1. Só deverão ser utilizados para compor as respostas deste desafio os dados providenciados. Os dados aqui disponibilizados são fictícios e criados para simular situações reais de AIOps;\n",
    "2. Qualquer referência utilizada para responder esse desafio deve ser listada na seção **Referências** desse notebook. Plágio não será aceito em hipótese alguma;\n",
    "3. As respostas para as perguntas feitas aqui deverão ser respondidas em detalhe, a fim de capturar o seu processo de resolução de problemas; \n",
    "4. As respostas em código para as perguntas aqui colocadas deverão ser escritas utilizando, idealmente, Python, a fim de ser reproduzível no ambiente do **Google Colab**. \n",
    "    - Caso não respondam essa atividade utilizando alguma linguagem de programação nativa do ambiente de desenvolvimento referido acima, deverão enviar o código fonte junto a uma resposta para um dos e-mails de contato dispostos na seção **Contatos**, ou deve ser enviado um link do repositório contendo a resposta no **GitHub**; \n",
    "    - Todo código apresentado deve ser reproduzível. Portanto, se o código empregado para a solução não for reproduzível diretamente no ambiente de desenvolvimento **Google Colab**, será necessário providenciar os requisitos de ambiente usados para desenvolver a resposta; \n",
    "5. É muito importante para nós que a resolução de problemas sejam orientadas por dados. Se vocês acreditam que suas respostas funcionam, precisamos de informações para averiguar isso com dados e fatos. Respostas como \"por experiência\" não serão consideradas suficientes;\n",
    "6. Não é necessário responder todas as perguntas, porém os encorajamos a tentar responder todas. Ao menos uma pergunta, porém, deve ser respondida; "
   ]
  },
  {
   "cell_type": "markdown",
   "metadata": {
    "colab_type": "text",
    "id": "_YFhWs79VwQX"
   },
   "source": [
    "## Setup dos dados\n",
    "Por favor, execute as linhas de código a seguir sem mudar nada. Elas farão o download dos dados para este desafio e os colocarão em um diretório chamado `datasets`. Imagens relevantes para este desafio também serão baixadas e colocadas no diretório `img`. "
   ]
  },
  {
   "cell_type": "code",
   "execution_count": null,
   "metadata": {
    "colab": {},
    "colab_type": "code",
    "id": "HOl4nzKgVwQZ"
   },
   "outputs": [],
   "source": [
    "# # criando o diretório:\n",
    "!echo 'Criando o diretório para os dados e imagens'\n",
    "!mkdir ./datasets\n",
    "!mkdir ./img\n",
    "\n",
    "# # Baixando as imagens\n",
    "!echo 'Baixando imagens'\n",
    "!wget https://www.dropbox.com/s/i95umy72v37ayqf/estrutura_coleta.png?dl=0 -O ./img/estrutura_coleta.png\n",
    "\n",
    "# # baixando dados para questão 1:\n",
    "!echo 'Baixando dados para questão 1'\n",
    "!wget https://www.dropbox.com/s/9h0kb34cori1bna/model_predictions.csv?dl=0 -O ./datasets/model_predictions.csv\n",
    "    \n",
    "# # baixando dados para questão 2:\n",
    "!echo 'Baixando dados para questão 2'\n",
    "!wget https://www.dropbox.com/s/l5wnklpl2xdy507/requests.json?dl=0 -O ./datasets/requests.json\n",
    "    \n",
    "# # baixando dados para questão 3:\n",
    "!echo 'Baixando dados para questão 3'\n",
    "!wget https://www.dropbox.com/s/82p5k4zq9eymg03/process_change.csv?dl=0 -O ./datasets/process_change.csv\n",
    "\n",
    "# # baixando dados para questão 4:\n",
    "!echo 'Baixando dados para questão 4'\n",
    "!wget https://www.dropbox.com/s/z4mx9ynul6d7431/access.log?dl=0 -O ./datasets/access.log"
   ]
  },
  {
   "cell_type": "markdown",
   "metadata": {
    "colab_type": "text",
    "id": "zjbhI3fjVwQc"
   },
   "source": [
    "## Questão 1: Caixas pretas\n",
    "Você recebeu um e-mail de um analista da equipe de PCP que o \"modelo de previsão em redes neurais\" de uma ferramenta Z não parece estar funcionando muito bem. Segundo o analista, os resultados são muito variáveis e pouco acurados. Ao analisar a ferramenta, um colega de AIOps verifica que não há documentação pública existente em relação ao modelo aplicado, já que a ferramenta é uma verdadeira caixa preta.\n",
    "\n",
    "O colega de equipe então extrai um resultado da base de treinamento usada para construir esse modelo de regressão e as predições originais do modelo para aquele dataset no momento inicial de configuração. Considere que esse dataset é representativo da tarefa em que esse modelo seria realmente aplicado e, no mundo real, há muito mais registros no dataset. \n",
    "\n",
    "O dataset foi disponibilizado no arquivo `model_predictions.csv` para que você possa analisar o que está acontecendo e consiste nos seguinte formato:\n",
    "\n",
    "- `timestamp` é o timestamp do registro, no formato `[ano-mês-dia hora:minuto:segundo]`\n",
    "- `values` são os valores de cada registro. \n",
    "- `predictions` são as predições realizadas para o modelo no memso período.\n",
    "\n",
    "### Perguntas:\n",
    "- **(a)** O que pode estar acontecendo com o modelo? \n",
    "- **(b)** Por quais motivos esse modelo poderia estar performando mal no cenário produtivo?\n",
    "- **(c)** Como você explicaria pros seus colegas de AIOps o problema com o modelo? E para os gerentes? \n",
    "- **(d)** Que modelo você implementaria em substituição ao modelo da ferramenta Z? \n",
    "- **(e)** Por favor, demonstre a implementação do modelo sugerido."
   ]
  },
  {
   "cell_type": "markdown",
   "metadata": {},
   "source": [
    "### Respostas:\n",
    "- **(a)** O que pode estar acontecendo com o modelo? \n",
    "\n",
    "Temos 2 linhas de raciocínio: \n",
    "1 - Pre-Processamento de dados não foi eficiente / completo ou as situações de sazonalidade, tendência e estacionariedade (casos de série temporal) não foram tratados e expostos no treinamento do modelo. Precisamos verificar valores de NA e outliers tb;\n",
    "2 - Os Hiperparametros do modelo, profundidade da rede neural estão ineficientes e precisam de um ajuste, caso seja possível na ferramenta Z. \n",
    "\n",
    "Conforme análise abaixo, do R2 e do MAPE, existe logicamente um problema na performance com cerca de 51% de erros nas previsões.\n",
    "\n",
    "- **(b)** Por quais motivos esse modelo poderia estar performando mal no cenário produtivo?\n",
    "\n",
    "Tratando-se de redes neurais, precisamos verificar se os passos de pré-processamento dos dados \n",
    "foram feitos corretamente, como por exemplo, vários modelos de ML precisam que os dados estejam normalizados e padronizados (A normalização aplica escala aos dados com intervalos entre 0 e 1. A Padronização divide a média pelo desvio padrão para obter uma unidade de variância. Além desse ponto, teríamos que verificar também problemas de MultiColinearidade entre as variáveis, pois podem levar a perda da performance e fazermos a técnica de features selection também para diminuir a quantidade de varíaveis e tornar o modelo mais assertivo. \n",
    "Outra linha de raciocínio seria verificar o tamanho e período utilizado para o treinamento, aparentemente pelos dados informados, temos uma regressão em séries temporais. Séries temporais possuem sanzonalidade e estacionariedade por exemplo que devem ser enviados ao modelo para seu correto aprendizado, por exemplo, seu eu tenho um comportamento em Jan diferente de Fev, etc.; precisamos verificar se todas as situações dos dados e de negócio foram enviadas ao modelo.\n",
    "Precisamos verificar valores de NA e outliers nos dados.  \n",
    "        \n",
    "- **(c)** Como você explicaria pros seus colegas de AIOps o problema com o modelo? E para os gerentes? \n",
    "\n",
    "Para os colegas de equipe, eu explicaria minha hipótese do pré-processamento e da construção do modelo preditivio que foi enviado e usado para o modelo da caixa preta, sobre o tamanho dos dados que foram usados no treinamento também, conforme expliquei acima. \n",
    "Para os gerentes, eu mostraria o resultado dos acertos em % e informaria que nosso percentual está abaixo do esperado e que precisamos analisar e remodelar seu funcionamento para termos uma assertividade melhor. \n",
    "\n",
    "- **(d)** Que modelo você implementaria em substituição ao modelo da ferramenta Z?\n",
    "\n",
    "Sem conhecer os dados reais, fica difícil avaliar, mas eu começaria do mais simples e básico primeiramente, usando um KNN e um CART. Caso seja mesmo um dataset de śeries temporais, é o que eu acredito que seja, usaria o ARIMA. \n",
    "\n",
    "- **(e)** Por favor, demonstre a implementação do modelo sugerido.\n",
    "\n",
    "Abaixo o código do KNN como exemplo. "
   ]
  },
  {
   "cell_type": "code",
   "execution_count": 1,
   "metadata": {
    "colab": {},
    "colab_type": "code",
    "id": "lVmShiVKVwQd"
   },
   "outputs": [
    {
     "name": "stdout",
     "output_type": "stream",
     "text": [
      "O R2 do modelo é: 0.9798370048032164\n",
      "O MAPE do modelo é: 51.14311150617916\n"
     ]
    }
   ],
   "source": [
    "# Análise dos Resultados \n",
    "\n",
    "# Open o arquivo\n",
    "from pandas import read_csv\n",
    "from sklearn.metrics import r2_score\n",
    "import numpy as np\n",
    "\n",
    "def mean_absolute_percentage_error(y_true, y_pred): \n",
    "    y_true, y_pred = np.array(y_true), np.array(y_pred)\n",
    "    return np.mean(np.abs((y_true - y_pred) / y_true)) * 100\n",
    "\n",
    "df = read_csv('datasets/model_predictions.csv', sep=',')\n",
    "\n",
    "dados = df.values\n",
    "\n",
    "# Resultados do modelo\n",
    "r2 = r2_score(dados[:,1], dados[:,2])\n",
    "print(\"O R2 do modelo é:\", r2)\n",
    "\n",
    "mae = mean_absolute_percentage_error(dados[:,1], dados[:,2])\n",
    "print(\"O MAPE do modelo é:\", mae)\n"
   ]
  },
  {
   "cell_type": "code",
   "execution_count": 2,
   "metadata": {},
   "outputs": [
    {
     "name": "stdout",
     "output_type": "stream",
     "text": [
      "O MSE do modelo é: 14.106775647201212\n"
     ]
    }
   ],
   "source": [
    "# Modelo KNN - Demonstração, usei o mesmo dataset do problema como exemplo\n",
    "from sklearn.model_selection import train_test_split\n",
    "from sklearn.metrics import mean_squared_error\n",
    "from sklearn.neighbors import KNeighborsRegressor\n",
    "\n",
    "df_knn = read_csv('datasets/model_predictions.csv', sep=',')\n",
    "\n",
    "array = df_knn.values\n",
    "\n",
    "# Separando o array em componentes de input e output\n",
    "X = array[:,1]\n",
    "Y = array[:,2]\n",
    "\n",
    "# Divide os dados em treino e teste\n",
    "X_train, X_test, Y_train, Y_test = train_test_split(X, Y, test_size = 0.10, random_state = 5)\n",
    "\n",
    "# Criando o modelo\n",
    "modelo = KNeighborsRegressor()\n",
    "\n",
    "# Treinando o modelo\n",
    "X_train = X_train.reshape(-1, 1)\n",
    "X_test = X_test.reshape(-1, 1)\n",
    "\n",
    "modelo.fit(X_train, Y_train)\n",
    "\n",
    "# Fazendo previsões\n",
    "Y_pred = modelo.predict(X_test)\n",
    "\n",
    "# Resultado\n",
    "mse = mean_squared_error(Y_test, Y_pred)\n",
    "print(\"O MSE do modelo é:\", mse)\n",
    "\n"
   ]
  },
  {
   "cell_type": "markdown",
   "metadata": {
    "colab_type": "text",
    "id": "B9arQx3BVwQg"
   },
   "source": [
    "## Questão 2: Detecção de Anomalias \n",
    "As equipes de Redes e Sustentação do sistema Z contataram a equipe de AIOps reportando problemas em relação à disponibilidade de um serviço específico.\n",
    "\n",
    "Em momentos críticos para a empresa, o sistema Z tem quedas que torna o serviço praticamente inútil. Os analistas têm bastante dificuldade em identificar esse momentos rápido o suficiente e a olho nu, e tais problemas podem trazer consequências inesperadas tempos depois. \n",
    "\n",
    "A forma como este processo de coleta de métricas e logs é orquestrado hoje é ilustrado no seguinte diagrama:\n",
    "\n",
    "![Arquitetura lógica do processo de ingestão de dados do sistema Z](img/estrutura_coleta.png \"Arquitetura lógica do processo de ingestão de dados do sistema Z\")\n",
    "\n",
    "Um colega da equipe de AIOps providenciou um arquivo chamado `requests.json` contendo um monitoramento da quantidade de requests de sucesso de um dos principais serviços deste sistema. O dicionário de dados abaixo representa a informação disponível:\n",
    "\n",
    "- `timestamp` é o timestamp do registro, no formato `[ano-mês-dia hora:minuto:segundo]`. No arquivo .json, ele está quebrado em seus metadados, como, por exemplo, `day`, `dayofyear`, etc. \n",
    "\n",
    "- `request_counts` é a quantidade de requests de sucesso, normalizado (entre 0 a 1). É um valor float64. \n",
    "\n",
    "### Perguntas:\n",
    "- **(a)** Que tipo de modelo ou algoritmo pode ser construído para ajudar as equipes responsáveis pelo sistema Z a detectarem essas anomalias mais rapidamente?\n",
    "- **(b)** Desenvolva o modelo sugerido.\n",
    "- **(b)** Como você serviria esse modelo em um processo de streaming? \n",
    "- **(c)** Como você reportaria ou demonstraria os resultados do seu modelo? \n",
    "- **(d)** Que produto de dados pode ser desenvolvido para que as equipes que lhe apresentaram o problema mitiguem possa agir mais rápido? Por favor ilustre seus resultados."
   ]
  },
  {
   "cell_type": "markdown",
   "metadata": {},
   "source": [
    "### Respostas:\n",
    "- **(a)** Que tipo de modelo ou algoritmo pode ser construído para ajudar as equipes responsáveis pelo sistema Z a detectarem essas anomalias mais rapidamente?\n",
    "\n",
    "Pelo desenho da Arquitetura, eu implementaria a detecção de anomalia no próprio ElasticSearch. O ELK possui um módulo de ML para séries temporais e deteção de anomalias. \n",
    "Não usando o ELK, podemos fazer vários tipos de modelos como redes neurais, ARIMA ou o próprio XGBoost, KNN, SVM, mais simples e que pode funcionar muito bem. \n",
    "Eu começaria pelo modelo SVM para esse cenário proposto. \n",
    "\n",
    "- **(b)** Desenvolva o modelo sugerido.\n",
    "\n",
    "Fontes do SVM abaixo.\n",
    "\n",
    "- **(c)** Como você serviria esse modelo em um processo de streaming?\n",
    "\n",
    "Eu recomendo utilizar o Spark Streaming em conjunto com um Flume ou Kafka coletando os dados e processando o modelo em real-time com o próprio modelo de ML (Spark ML).\n",
    "Após o processamento o spark gravaria o log ou postaria num Kafka para a posterior leitura do LOGStash (Arquitetura atual do desenho apresentado). \n",
    "\n",
    "- **(d)** Como você reportaria ou demonstraria os resultados do seu modelo? \n",
    "\n",
    "Eu armazenaria os resultados do modelo previstos e os reais em algum repositório e diariamente montaria um processo de avaliação dos dados da acurácia dos acertos. Esse relatório seria enviado por email para as áreas responsáveis diariamente e penso num relatório mais gerencial de 15 em 15 dias. \n",
    "\n",
    "- **(e)** Que produto de dados pode ser desenvolvido para que as equipes que lhe apresentaram o problema mitiguem possa agir mais rápido? Por favor ilustre seus resultados.\n",
    "\n",
    "Se o produto utilizado na deteção for o ELK, quando ele detectar a anomalia, conseguimos enviar um alerta (Watchers) para as equipe responsáveis e podemos criar gráficos no Kibana com um status de verde/amarelo/vermelho, mostrando a realidade atual e possível FORECAST futuro. "
   ]
  },
  {
   "cell_type": "code",
   "execution_count": 3,
   "metadata": {
    "colab": {},
    "colab_type": "code",
    "id": "KMQhZjxJVwQh"
   },
   "outputs": [
    {
     "data": {
      "text/html": [
       "<div>\n",
       "<style scoped>\n",
       "    .dataframe tbody tr th:only-of-type {\n",
       "        vertical-align: middle;\n",
       "    }\n",
       "\n",
       "    .dataframe tbody tr th {\n",
       "        vertical-align: top;\n",
       "    }\n",
       "\n",
       "    .dataframe thead th {\n",
       "        text-align: right;\n",
       "    }\n",
       "</style>\n",
       "<table border=\"1\" class=\"dataframe\">\n",
       "  <thead>\n",
       "    <tr style=\"text-align: right;\">\n",
       "      <th></th>\n",
       "      <th>day</th>\n",
       "      <th>dayofyear</th>\n",
       "      <th>daysinmonth</th>\n",
       "      <th>freqstr</th>\n",
       "      <th>is_leap_year</th>\n",
       "      <th>month</th>\n",
       "      <th>ordinal</th>\n",
       "      <th>qyear</th>\n",
       "      <th>start_time</th>\n",
       "      <th>week</th>\n",
       "      <th>weekofyear</th>\n",
       "      <th>percentual</th>\n",
       "    </tr>\n",
       "  </thead>\n",
       "  <tbody>\n",
       "    <tr>\n",
       "      <th>0</th>\n",
       "      <td>1</td>\n",
       "      <td>1</td>\n",
       "      <td>31</td>\n",
       "      <td>T</td>\n",
       "      <td>1</td>\n",
       "      <td>1</td>\n",
       "      <td>26297280</td>\n",
       "      <td>2020</td>\n",
       "      <td>2020-01-01 00:00:00</td>\n",
       "      <td>1</td>\n",
       "      <td>1</td>\n",
       "      <td>0.675424</td>\n",
       "    </tr>\n",
       "    <tr>\n",
       "      <th>1</th>\n",
       "      <td>1</td>\n",
       "      <td>1</td>\n",
       "      <td>31</td>\n",
       "      <td>T</td>\n",
       "      <td>1</td>\n",
       "      <td>1</td>\n",
       "      <td>26297281</td>\n",
       "      <td>2020</td>\n",
       "      <td>2020-01-01 00:01:00</td>\n",
       "      <td>1</td>\n",
       "      <td>1</td>\n",
       "      <td>0.684525</td>\n",
       "    </tr>\n",
       "    <tr>\n",
       "      <th>2</th>\n",
       "      <td>1</td>\n",
       "      <td>1</td>\n",
       "      <td>31</td>\n",
       "      <td>T</td>\n",
       "      <td>1</td>\n",
       "      <td>1</td>\n",
       "      <td>26297282</td>\n",
       "      <td>2020</td>\n",
       "      <td>2020-01-01 00:02:00</td>\n",
       "      <td>1</td>\n",
       "      <td>1</td>\n",
       "      <td>0.695691</td>\n",
       "    </tr>\n",
       "    <tr>\n",
       "      <th>3</th>\n",
       "      <td>1</td>\n",
       "      <td>1</td>\n",
       "      <td>31</td>\n",
       "      <td>T</td>\n",
       "      <td>1</td>\n",
       "      <td>1</td>\n",
       "      <td>26297283</td>\n",
       "      <td>2020</td>\n",
       "      <td>2020-01-01 00:03:00</td>\n",
       "      <td>1</td>\n",
       "      <td>1</td>\n",
       "      <td>0.714638</td>\n",
       "    </tr>\n",
       "    <tr>\n",
       "      <th>4</th>\n",
       "      <td>1</td>\n",
       "      <td>1</td>\n",
       "      <td>31</td>\n",
       "      <td>T</td>\n",
       "      <td>1</td>\n",
       "      <td>1</td>\n",
       "      <td>26297284</td>\n",
       "      <td>2020</td>\n",
       "      <td>2020-01-01 00:04:00</td>\n",
       "      <td>1</td>\n",
       "      <td>1</td>\n",
       "      <td>0.725812</td>\n",
       "    </tr>\n",
       "  </tbody>\n",
       "</table>\n",
       "</div>"
      ],
      "text/plain": [
       "   day  dayofyear  daysinmonth freqstr  is_leap_year  month   ordinal  qyear  \\\n",
       "0    1          1           31       T             1      1  26297280   2020   \n",
       "1    1          1           31       T             1      1  26297281   2020   \n",
       "2    1          1           31       T             1      1  26297282   2020   \n",
       "3    1          1           31       T             1      1  26297283   2020   \n",
       "4    1          1           31       T             1      1  26297284   2020   \n",
       "\n",
       "           start_time  week  weekofyear  percentual  \n",
       "0 2020-01-01 00:00:00     1           1    0.675424  \n",
       "1 2020-01-01 00:01:00     1           1    0.684525  \n",
       "2 2020-01-01 00:02:00     1           1    0.695691  \n",
       "3 2020-01-01 00:03:00     1           1    0.714638  \n",
       "4 2020-01-01 00:04:00     1           1    0.725812  "
      ]
     },
     "execution_count": 3,
     "metadata": {},
     "output_type": "execute_result"
    }
   ],
   "source": [
    "import json\n",
    "import pandas as pd\n",
    "\n",
    "#Lendo o arquivo\n",
    "data = []\n",
    "with open('datasets/requests.json', 'r') as f:\n",
    "        data = json.load(f)\n",
    "\n",
    "# Criando dataframe do JSON\n",
    "dados = pd.DataFrame.from_dict(data)\n",
    "dados.head(10)\n",
    "\n",
    "#Transformando o JSON em colunas\n",
    "dadosX = dados[0].to_json()\n",
    "dadosX_df = pd.read_json(dadosX, orient='index')\n",
    "dadosX_df['percentual'] = dados[1]\n",
    "\n",
    "dadosX_df.head()"
   ]
  },
  {
   "cell_type": "code",
   "execution_count": 4,
   "metadata": {},
   "outputs": [],
   "source": [
    "#Removendo colunas desnecessarias\n",
    "del dadosX_df['freqstr']"
   ]
  },
  {
   "cell_type": "code",
   "execution_count": 5,
   "metadata": {},
   "outputs": [],
   "source": [
    "#Salvando a coluna temporariamente para escalar os dados\n",
    "dadosX_df_start = dadosX_df['start_time']\n",
    "del dadosX_df['start_time']"
   ]
  },
  {
   "cell_type": "code",
   "execution_count": 6,
   "metadata": {},
   "outputs": [],
   "source": [
    "#Construindo o Modelo\n",
    "from sklearn.preprocessing import StandardScaler\n",
    "from sklearn.svm import OneClassSVM\n",
    "import matplotlib.pyplot as plt\n",
    "import warnings\n",
    "\n",
    "%matplotlib inline\n",
    "warnings.filterwarnings(\"ignore\")\n",
    "\n",
    "scaler = StandardScaler()\n",
    "np_scaled = scaler.fit_transform(dadosX_df)\n",
    "df_novo = pd.DataFrame(np_scaled)\n",
    "\n",
    "# train oneclassSVM \n",
    "model = OneClassSVM(nu=0.5, kernel=\"rbf\", gamma=0.01)\n",
    "model.fit(df_novo)\n",
    "df_novo['Anomalia'] = pd.Series(model.predict(df_novo))\n",
    "\n",
    "df_novo['start_time'] = dadosX_df_start\n"
   ]
  },
  {
   "cell_type": "code",
   "execution_count": 7,
   "metadata": {},
   "outputs": [
    {
     "data": {
      "image/png": "[encoded data removed]",
      "text/plain": [
       "<Figure size 720x432 with 1 Axes>"
      ]
     },
     "metadata": {
      "needs_background": "light"
     },
     "output_type": "display_data"
    }
   ],
   "source": [
    "#Gráfico do Resultado\n",
    "fig, ax = plt.subplots(figsize=(10,6))\n",
    "a = df_novo.loc[df_novo['Anomalia'] == -1, ['start_time', 9]] \n",
    "\n",
    "ax.plot(df_novo['start_time'], df_novo[9], color='blue')\n",
    "ax.scatter(a['start_time'],a[9], color='red')\n",
    "plt.show();\n",
    "\n"
   ]
  },
  {
   "cell_type": "markdown",
   "metadata": {
    "colab_type": "text",
    "id": "QScLEg7sVwQj"
   },
   "source": [
    "## Questão 3: Gestão de Mudança\n",
    "Um analista de AIOps está investigou um processo num sistema de TI e implementou um caso de uso com um modelo de regressão que atingia um coeficiente de determinação em torno de 0.75. O modelo implementado parecia estar funcionando bem na Operação por um tempo, dando resultados acurados o suficiente para tomada de decisões simples.\n",
    "\n",
    "No entanto, com o tempo, a performance do modelo começou a se degradar, e registrou um coeficiente de determinação bem menor, em torno de -2.26. O colega de equipe, sem entender muito bem o que pode estar acontecendo, pediu sua ajuda para analisar essa questão. Os dados coletados para analisar este problema foram disponibilizados no arquivo `process_change.csv`. O arquivo segue o formato abaixo:\n",
    "\n",
    "- `timestamp` é o timestamp do registro, no formato `[ano-mês-dia hora:minuto:segundo]`\n",
    "- `values` é o valor agregado ao referido processo. \n",
    "\n",
    "**Observação**: \n",
    "Sabe-se que em algum momento entre o mês de Janeiro e Março de 2020, houve uma alteração no processo (por conta de uma nova release) que está sendo monitorado que não foi comunicada previamente. Sabe-se também que não houve interrupção no processo de coleta nesse tempo. \n",
    "\n",
    "### Perguntas\n",
    "- **(a)** O que pode ter acontecido com o modelo em questão para haver essa redução de efetividade?\n",
    "- **(b)** Como você evitaria que o problema acontecesse novamente?\n",
    "- **(c)** Qual é melhor forma que você considera para monitorar a qualidade do modelo a fim de evitar esse problema? \n",
    "- **(d)** Por favor, ilustre o processo sugerido no item c). "
   ]
  },
  {
   "cell_type": "markdown",
   "metadata": {},
   "source": [
    "### Respostas\n",
    "\n",
    "- **(a)** O que pode ter acontecido com o modelo em questão para haver essa redução de efetividade?\n",
    "\n",
    "Bom, primeiramente, seria interessante que o dataset contivesse o antes da mudança, como por exemplo, dez/2019 para efetuar uma comparação entre os dados e montar uma detecção de anomalias no processo, pois a mudança pode acontecer devido a sanzonalidade do processo de negócio também. \n",
    "\n",
    "\n",
    "- **(b)** Como você evitaria que o problema acontecesse novamente?\n",
    "\n",
    "Primeiramente, a comunicação entre as áreas precisa melhorar e sugiro criar uma processo em tempo real de acompanhamento, pode ser feito até no Elastic ELK que a empresa tem junto com o spark streaming e o spark ML.  \n",
    "\n",
    "- **(c)** Qual é melhor forma que você considera para monitorar a qualidade do modelo a fim de evitar esse problema? \n",
    "\n",
    "Sugiro criar uma estrutura ou arquivo com os resultados do R2 do modelo e levar esses resultados para o ELK montando desde gráficos comparativos como Watchers com envio de e-mails para as equipes responsáveis. \n",
    "\n",
    "- **(d)** Por favor, ilustre o processo sugerido no item c). \n",
    "\n",
    "1) Armazenar os dados do modelo e suas predições diariamente ou em períodos de tempo menores, pode ser um arquivo, banco de dados, arquivo parket no hdfs, S3 da AWS, etc.; \n",
    "\n",
    "2) Flume , FileBeats do ELK para ler o arquivo, caso seja banco de dados, pode ser lido direto no Spark. \n",
    "\n",
    "3) Processamento da avaliações no Spark\n",
    "\n",
    "4) Gravação dos resultados no ElasticSearch\n",
    "\n",
    "5) Criação de gráficos e/ou Watchers de evolução e comparação dos resultados. \n"
   ]
  },
  {
   "cell_type": "code",
   "execution_count": 8,
   "metadata": {
    "colab": {},
    "colab_type": "code",
    "id": "X_bK20jsVwQk"
   },
   "outputs": [
    {
     "data": {
      "text/html": [
       "<div>\n",
       "<style scoped>\n",
       "    .dataframe tbody tr th:only-of-type {\n",
       "        vertical-align: middle;\n",
       "    }\n",
       "\n",
       "    .dataframe tbody tr th {\n",
       "        vertical-align: top;\n",
       "    }\n",
       "\n",
       "    .dataframe thead th {\n",
       "        text-align: right;\n",
       "    }\n",
       "</style>\n",
       "<table border=\"1\" class=\"dataframe\">\n",
       "  <thead>\n",
       "    <tr style=\"text-align: right;\">\n",
       "      <th></th>\n",
       "      <th>timestamp</th>\n",
       "      <th>values</th>\n",
       "    </tr>\n",
       "  </thead>\n",
       "  <tbody>\n",
       "    <tr>\n",
       "      <th>0</th>\n",
       "      <td>2020-01-01 00:00</td>\n",
       "      <td>2.077028</td>\n",
       "    </tr>\n",
       "    <tr>\n",
       "      <th>1</th>\n",
       "      <td>2020-01-01 00:01</td>\n",
       "      <td>1.517333</td>\n",
       "    </tr>\n",
       "    <tr>\n",
       "      <th>2</th>\n",
       "      <td>2020-01-01 00:02</td>\n",
       "      <td>2.063737</td>\n",
       "    </tr>\n",
       "    <tr>\n",
       "      <th>3</th>\n",
       "      <td>2020-01-01 00:03</td>\n",
       "      <td>2.245478</td>\n",
       "    </tr>\n",
       "    <tr>\n",
       "      <th>4</th>\n",
       "      <td>2020-01-01 00:04</td>\n",
       "      <td>1.628638</td>\n",
       "    </tr>\n",
       "  </tbody>\n",
       "</table>\n",
       "</div>"
      ],
      "text/plain": [
       "          timestamp    values\n",
       "0  2020-01-01 00:00  2.077028\n",
       "1  2020-01-01 00:01  1.517333\n",
       "2  2020-01-01 00:02  2.063737\n",
       "3  2020-01-01 00:03  2.245478\n",
       "4  2020-01-01 00:04  1.628638"
      ]
     },
     "execution_count": 8,
     "metadata": {},
     "output_type": "execute_result"
    }
   ],
   "source": [
    "# Montei um gráfico de série temporal para visualizar as mudanças ao longo do tempo\n",
    "\n",
    "import pandas as pd\n",
    "from statsmodels.tsa.seasonal import seasonal_decompose\n",
    "import matplotlib.pyplot as plt\n",
    "import seaborn as sns\n",
    " \n",
    "# importando os dados\n",
    "df = pd.read_csv('datasets/process_change.csv')\n",
    "\n",
    "df.head()"
   ]
  },
  {
   "cell_type": "code",
   "execution_count": 9,
   "metadata": {},
   "outputs": [],
   "source": [
    "#Arrumando o índice para a Serie Temporal\n",
    "df['timestamp'] = pd.to_datetime(df['timestamp'])\n",
    "df = df.sort_values(by='timestamp')\n",
    "df = df.set_index('timestamp')\n"
   ]
  },
  {
   "cell_type": "code",
   "execution_count": 10,
   "metadata": {},
   "outputs": [
    {
     "data": {
      "image/png": "[encoded data removed]",
      "text/plain": [
       "<Figure size 864x576 with 4 Axes>"
      ]
     },
     "metadata": {
      "needs_background": "light"
     },
     "output_type": "display_data"
    }
   ],
   "source": [
    "\n",
    "result = seasonal_decompose(df, model='additive', freq=1)\n",
    " \n",
    "# Nesse gráfico, decompomos a série temporal em Observação original, Tendência, Sazonalidade e Resíduos \n",
    "fig, (ax1,ax2,ax3, ax4) = plt.subplots(4,1, figsize=(12,8))\n",
    "result.observed.plot(ax=ax1)\n",
    "result.trend.plot(ax=ax2)\n",
    "result.seasonal.plot(ax=ax3)\n",
    "result.resid.plot(ax=ax4)\n",
    "plt.tight_layout()"
   ]
  },
  {
   "cell_type": "markdown",
   "metadata": {},
   "source": [
    "### Pelos gráficos, notamos que o problema deve ter começado no dia 17/01"
   ]
  },
  {
   "cell_type": "markdown",
   "metadata": {
    "colab_type": "text",
    "id": "ywFGhmGEVwQn"
   },
   "source": [
    "## Questão 4: Más práticas de engenharia de software\n",
    "É comum observarmos código mal-escrito no mercado de dados. Abaixo você encontrará alguns excertos de código ineficiente ou problemático. Como você os corrigiria ou os otimizaria?"
   ]
  },
  {
   "cell_type": "markdown",
   "metadata": {
    "colab_type": "text",
    "id": "ebhmuHxWVwQq"
   },
   "source": [
    "- **a)** O código abaixo refere-se ao cálculo da sequência de fibonacci. Como você pode observar com o resultado da análise de runtime, essa função é bem ineficiente, demorando 32 segundos para calcular 40 números da sequência. De que forma ele poderia ser otimizado para que responda mais rapidamente?"
   ]
  },
  {
   "cell_type": "code",
   "execution_count": 11,
   "metadata": {
    "colab": {},
    "colab_type": "code",
    "id": "QRBUYnjqVwQr",
    "outputId": "4cd031aa-57f4-40d9-f669-01e0f5be6eb4"
   },
   "outputs": [
    {
     "name": "stdout",
     "output_type": "stream",
     "text": [
      "36.1 s ± 0 ns per loop (mean ± std. dev. of 1 run, 1 loop each)\n"
     ]
    }
   ],
   "source": [
    "# por favor não mexa nessa célula:\n",
    "# questão 4, item a):\n",
    "def fibonacci(n):\n",
    "    if n in [0, 1]:\n",
    "        return n\n",
    "    return fibonacci(n - 1) + fibonacci(n - 2)\n",
    "\n",
    "n = 40\n",
    "\n",
    "# Atenção: se você rodar essa célula novamente vai demorar bastante!\n",
    "%timeit -r1 -n1 fibonacci(n)"
   ]
  },
  {
   "cell_type": "code",
   "execution_count": 12,
   "metadata": {
    "colab": {},
    "colab_type": "code",
    "id": "-dxWsptHVwQu"
   },
   "outputs": [
    {
     "name": "stdout",
     "output_type": "stream",
     "text": [
      "4.77 µs ± 0 ns per loop (mean ± std. dev. of 1 run, 1 loop each)\n"
     ]
    }
   ],
   "source": [
    "# questão 4, resposta para item a)\n",
    "def fibonacci_mdl(n):\n",
    "    ultimo=1\n",
    "    penultimo=1\n",
    "\n",
    "    if n in [0, 1, 2]:\n",
    "        return n\n",
    "    else:\n",
    "        for count in range(2,n):\n",
    "            termo = ultimo + penultimo\n",
    "            penultimo = ultimo\n",
    "            ultimo = termo\n",
    "            count += 1\n",
    "        return n\n",
    "\n",
    "n = 40\n",
    "\n",
    "%timeit -r1 -n1 fibonacci_mdl(n)\n"
   ]
  },
  {
   "cell_type": "markdown",
   "metadata": {
    "colab_type": "text",
    "id": "bvOMuiHPVwQw"
   },
   "source": [
    "- **b)** O código abaixo refere-se a tentar inicializar uma varíavel numa dataframe pandas. No entanto, como pode observar, demora pouco mais de 1 segundo para importar um arquivo de 100 MB e quanto maior o arquivo, mais tempo demora. De que forma esse código poderia ser otimizado para carregar mais rápido o arquivo?"
   ]
  },
  {
   "cell_type": "code",
   "execution_count": 13,
   "metadata": {
    "colab": {},
    "colab_type": "code",
    "id": "axb76FiHVwQx",
    "outputId": "13610849-8384-474b-f92a-2fbd51d68891"
   },
   "outputs": [
    {
     "name": "stdout",
     "output_type": "stream",
     "text": [
      "1.91 s ± 0 ns per loop (mean ± std. dev. of 1 run, 1 loop each)\n"
     ]
    }
   ],
   "source": [
    "# questão 4, item b):\n",
    "import pandas as pd\n",
    "\n",
    "%timeit -r1 -n1 pd.read_csv('./datasets/access.log', sep='\\t')"
   ]
  },
  {
   "cell_type": "code",
   "execution_count": 15,
   "metadata": {
    "colab": {},
    "colab_type": "code",
    "id": "oe0SKAlKVwQ0"
   },
   "outputs": [
    {
     "name": "stdout",
     "output_type": "stream",
     "text": [
      "Resultado - 0.0024614334106445312 seconds\n"
     ]
    }
   ],
   "source": [
    "# questão 4, resposta para item b)\n",
    "import time\n",
    "start_time = time.time()\n",
    "\n",
    "import csv\n",
    "\n",
    "input_file = './datasets/access.log'\n",
    "data = csv.DictReader(open(input_file))\n",
    "print(\"Resultado - %s seconds\" % (time.time() - start_time))\n"
   ]
  },
  {
   "cell_type": "markdown",
   "metadata": {
    "colab_type": "text",
    "id": "8xd9zwpSVwQ2"
   },
   "source": [
    "- **c)** O código abaixo reflete uma situação comum num cenário de dados: carregar um arquivo grande demais para a memória do computador. De que forma poderíamos realizar a operação em questão sem ter problemas de memória?"
   ]
  },
  {
   "cell_type": "code",
   "execution_count": 16,
   "metadata": {
    "colab": {},
    "colab_type": "code",
    "id": "1BJoaVebVwQ3",
    "outputId": "521b2047-e3b0-4d62-fb46-955739380c42"
   },
   "outputs": [
    {
     "name": "stdout",
     "output_type": "stream",
     "text": [
      "5.07 s ± 0 ns per loop (mean ± std. dev. of 1 run, 1 loop each)\n"
     ]
    }
   ],
   "source": [
    "%%timeit -r1 -n1\n",
    "# questão 4, item c):\n",
    "import pandas as pd\n",
    "import numpy as np\n",
    "\n",
    "# imagine que o arquivo em questão é bem maior (cerca de 16 GB)\n",
    "logs = pd.read_csv('./datasets/access.log',sep='\\t', \n",
    "                 names=['TIMESTAMP','RESPONSE_TIME'])\n",
    "logs['TIMESTAMP'] = pd.to_datetime(logs['TIMESTAMP'], unit='s')\n",
    "logs = logs.sort_values(by='TIMESTAMP')\n",
    "logs = logs.set_index('TIMESTAMP')\n",
    "\n",
    "# calculando operações \n",
    "# Define the features you'll calculate for each window\n",
    "rolling_logs = logs.rolling(20, min_periods=5, closed='right')\n",
    "to_calculate = [np.min, np.max, np.mean, np.std]\n",
    "features = rolling_logs.aggregate(to_calculate)"
   ]
  },
  {
   "cell_type": "code",
   "execution_count": 17,
   "metadata": {
    "colab": {},
    "colab_type": "code",
    "id": "kqrwRHBbVwQ5"
   },
   "outputs": [
    {
     "name": "stdout",
     "output_type": "stream",
     "text": [
      "2.19 s ± 0 ns per loop (mean ± std. dev. of 1 run, 1 loop each)\n"
     ]
    }
   ],
   "source": [
    "%%timeit -r1 -n1\n",
    "\n",
    "# questão 4, resposta para item c)\n",
    "import pandas as pd\n",
    "import numpy as np\n",
    "\n",
    "# imagine que o arquivo em questão é bem maior (cerca de 16 GB)\n",
    "logs = pd.read_csv('./datasets/access.log',sep='\\t', \n",
    "                   names=['IP','TIMESTAMP','METHOD','DOC','HTTP','RESPONSE_TIME','OTHER']\n",
    "                   )[['TIMESTAMP', 'RESPONSE_TIME']]\n",
    "\n",
    "logs['TIMESTAMP'] = pd.to_datetime(logs['TIMESTAMP'], unit='s')\n",
    "logs = logs.sort_values(by='TIMESTAMP')\n",
    "logs = logs.set_index('TIMESTAMP')\n",
    "\n",
    "# calculando operações \n",
    "# Define the features you'll calculate for each window\n",
    "rolling_logs = logs.rolling(20, min_periods=5, closed='right')\n",
    "del logs\n",
    "\n",
    "to_calculate = [np.min, np.max, np.mean, np.std]\n",
    "features = rolling_logs.aggregate(to_calculate)"
   ]
  },
  {
   "cell_type": "markdown",
   "metadata": {
    "colab_type": "text",
    "id": "p3niIJ66VwQ7"
   },
   "source": [
    "## Sugestões:\n",
    "- Pensem nesse notebook como a apresentação da sua abordagem quanto a um problema do dia-a-dia a um(a) colega de trabalho. Seria ótimo se o código e as respostas estivessem bem documentadas, certo? Nomes de variáveis, estrutura das classes ou funções, docstrings, tudo isso é bastante importante para o trabalho em equipe e compartilhamento de conhecimento, duas coisas que valorizamos muito na área de AIOps;\n",
    "- Leiam com atenção a seção de **Contexto dos clientes internos e usuários** e pensem em como melhor comunicar os resultados tendo em conta, por exemplo, o grupo usuário final do insight gerado.\n",
    "- Não se limitem a forma de apresentação das respostas. Usem imagens, desenhos, gifs, gráficos. Demonstrem seu raciocínio da forma que acharem mais esclarecedora;\n",
    "- Se não souberem de algum tema específico colocado aqui (por exemplo, o que são logs Weblogic), façam as devidas pesquisas de referência na internet. A não ser que seja uma informação estritamente pecular à Vivo ou à equipe de AIOps, informações quanto ao conteúdo abordado não serão descritas;\n",
    "\n",
    "## Contatos:\n",
    "- Para dúvidas em relação ao desafio ou submissão das respostas, contatar Mateus Gomes no e-mail mateus.pgomes@telefonica.com;\n",
    "- Para dúvidas em relação à vaga e a próximos passos, contatar Lívia Oliveira no e-mail liviam.oliveira@telefonica.com;"
   ]
  },
  {
   "cell_type": "markdown",
   "metadata": {
    "colab_type": "text",
    "id": "YZ9Q99mbVwQ8"
   },
   "source": [
    "## Referências\n",
    "As referências devem ser colocadas no formato: Autor, Título, Url de acesso. Em caso de livros, apenas Autor, Título e Edição serão suficientes.\n",
    "\n",
    "Exemplo:\n",
    "- [**Elastic.co**, *Documentação do agente Metricbeat*, https://www.elastic.co/guide/en/beats/metricbeat/current/exported-fields-system.html](https://www.elastic.co/guide/en/beats/metricbeat/current/exported-fields-system.html)"
   ]
  }
 ],
 "metadata": {
  "colab": {
   "name": "vivo_aiops_ml_eng_challenge.ipynb",
   "provenance": [],
   "toc_visible": true
  },
  "kernelspec": {
   "display_name": "Python 3",
   "language": "python",
   "name": "python3"
  },
  "language_info": {
   "codemirror_mode": {
    "name": "ipython",
    "version": 3
   },
   "file_extension": ".py",
   "mimetype": "text/x-python",
   "name": "python",
   "nbconvert_exporter": "python",
   "pygments_lexer": "ipython3",
   "version": "3.7.4"
  }
 },
 "nbformat": 4,
 "nbformat_minor": 2
}
